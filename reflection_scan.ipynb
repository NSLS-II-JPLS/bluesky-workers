{
 "cells": [
  {
   "cell_type": "code",
   "execution_count": null,
   "metadata": {},
   "outputs": [],
   "source": [
    "import numpy as np\n",
    "import matplotlib.pyplot as plt\n",
    "from databroker import Broker\n",
    "import os\n",
    "\n",
    "import pandas as pd"
   ]
  },
  {
   "cell_type": "code",
   "execution_count": null,
   "metadata": {},
   "outputs": [],
   "source": []
  },
  {
   "cell_type": "markdown",
   "metadata": {},
   "source": [
    "### Load databroker database"
   ]
  },
  {
   "cell_type": "code",
   "execution_count": null,
   "metadata": {
    "scrolled": true,
    "tags": [
     "parameters"
    ]
   },
   "outputs": [],
   "source": [
    "path = '/opt/papermill/results'\n",
    "uid = 'b88a8255-82a6-4ddc-8565-2a5c02551999'\n",
    "x_roi = 262\n",
    "y_roi1 = 55\n",
    "y_roi2 = 71\n",
    "y_roi3 = 88\n",
    "wdt = 13\n",
    "hgt = 10"
   ]
  },
  {
   "cell_type": "code",
   "execution_count": null,
   "metadata": {
    "scrolled": true
   },
   "outputs": [],
   "source": [
    "db = Broker.named('jpls')\n",
    "h = db[uid]\n",
    "print(h)\n",
    "\n",
    "images = np.asarray(list(h.data('pilatus100k_image')))\n",
    "attenuation = list(h.data('attenuation'))\n",
    "\n",
    "print(h.start['uid'])\n",
    "print(h.stream_names)\n",
    "print(images.shape)\n",
    "print(attenuation)\n",
    "h.table()"
   ]
  },
  {
   "cell_type": "code",
   "execution_count": null,
   "metadata": {},
   "outputs": [],
   "source": [
    "exp_time = h.start['exposure_time']\n",
    "ener = h.start['energy']\n",
    "sam = h.start['sample_name']\n",
    "\n",
    "attenu = list(h.data('attenuation'))\n",
    "i0 = list(h.data('quadem_current3_mean_value'))\n",
    "alpha_i = list(h.data('geo_alpha'))\n",
    "\n",
    "images = np.asarray(list(h.data('pilatus100k_image')))\n",
    "\n",
    "x_roi = 262\n",
    "y_roi1 = 55\n",
    "y_roi2 = 71\n",
    "y_roi3 = 88\n",
    "wdt = 13\n",
    "hgt = 10\n",
    "\n",
    "int_roi1 = np.zeros(np.shape(alpha_i))\n",
    "int_roi2 = np.zeros(np.shape(alpha_i))\n",
    "int_roi3 = np.zeros(np.shape(alpha_i))\n",
    "qz = np.zeros(np.shape(alpha_i))\n",
    "ref_sub = np.zeros(np.shape(alpha_i))\n",
    "\n",
    "lbda = 12.39842/(ener/1000)\n",
    "\n",
    "\n",
    "for i, (att, izer, alph_i, img) in enumerate(zip(attenu, i0, alpha_i, images)):\n",
    "    print(np.shape(img))\n",
    "    im = img/(att*izer)\n",
    "    int_roi1[i] = im[y_roi1:y_roi1+hgt, x_roi:x_roi+wdt].sum()\n",
    "    int_roi2[i] = im[y_roi2:y_roi2+hgt, x_roi:x_roi+wdt].sum()\n",
    "    int_roi3[i] = im[y_roi3:y_roi3+hgt, x_roi:x_roi+wdt].sum()\n",
    "    \n",
    "    qz[i] = 4*np.pi*np.sin(alph_i/180*np.pi)/lbda\n",
    "    \n",
    "ref_sub = int_roi2 - (int_roi1 + int_roi3)*0.5\n",
    "df = pd.DataFrame({'qz': qz, 'ref_sub': ref_sub})\n",
    "\n",
    "plt.figure()\n",
    "plt.plot(qz, ref_sub)\n",
    "plt.show()\n",
    "\n",
    "uid_0 = uid.split('-')[0]\n",
    "df.to_csv(os.path.join(path, f'test_reflection-{sam}-{uid_0}.txt'), sep='\\t')\n",
    "#np.savetxt(os.path.join(path, 'test_reflection.txt'), np.vstack((qz, ref_sub)).T)\n"
   ]
  },
  {
   "cell_type": "code",
   "execution_count": null,
   "metadata": {},
   "outputs": [],
   "source": [
    "# save a file\n"
   ]
  },
  {
   "cell_type": "code",
   "execution_count": null,
   "metadata": {},
   "outputs": [],
   "source": [
    "qz\n",
    "lbda\n",
    "ener"
   ]
  },
  {
   "cell_type": "code",
   "execution_count": null,
   "metadata": {},
   "outputs": [],
   "source": []
  }
 ],
 "metadata": {
  "celltoolbar": "Tags",
  "kernelspec": {
   "display_name": "Python 3",
   "language": "python",
   "name": "python3"
  },
  "language_info": {
   "codemirror_mode": {
    "name": "ipython",
    "version": 3
   },
   "file_extension": ".py",
   "mimetype": "text/x-python",
   "name": "python",
   "nbconvert_exporter": "python",
   "pygments_lexer": "ipython3",
   "version": "3.7.3"
  }
 },
 "nbformat": 4,
 "nbformat_minor": 2
}
